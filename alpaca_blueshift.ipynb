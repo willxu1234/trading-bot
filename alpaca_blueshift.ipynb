{
  "nbformat": 4,
  "nbformat_minor": 0,
  "metadata": {
    "colab": {
      "name": "alpaca_blueshift.ipynb",
      "provenance": [],
      "toc_visible": true,
      "mount_file_id": "https://github.com/willxu1234/trading-bot/blob/main/bot.ipynb",
      "authorship_tag": "ABX9TyNjfVCYNHEr/04AOspb7aFw",
      "include_colab_link": true
    },
    "kernelspec": {
      "name": "python3",
      "display_name": "Python 3"
    }
  },
  "cells": [
    {
      "cell_type": "markdown",
      "metadata": {
        "id": "view-in-github",
        "colab_type": "text"
      },
      "source": [
        "<a href=\"https://colab.research.google.com/github/willxu1234/trading-bot/blob/main/alpaca_blueshift.ipynb\" target=\"_parent\"><img src=\"https://colab.research.google.com/assets/colab-badge.svg\" alt=\"Open In Colab\"/></a>"
      ]
    },
    {
      "cell_type": "code",
      "metadata": {
        "colab": {
          "base_uri": "https://localhost:8080/"
        },
        "id": "uX6DVp2kRzcB",
        "outputId": "2f3fa6c1-a5b8-43e9-e521-d6218feafa73"
      },
      "source": [
        "# Install alpaca to make trades and get market data.\n",
        "!pip install alpaca_trade_api\n",
        "\n",
        "# Install mpl_finance for financial data visualization.\n",
        "# https://github.com/matplotlib/mplfinance\n",
        "!pip install mplfinance"
      ],
      "execution_count": null,
      "outputs": [
        {
          "output_type": "stream",
          "text": [
            "Requirement already satisfied: alpaca_trade_api in /usr/local/lib/python3.6/dist-packages (0.51.0)\n",
            "Requirement already satisfied: urllib3<1.26,>1.24 in /usr/local/lib/python3.6/dist-packages (from alpaca_trade_api) (1.24.3)\n",
            "Requirement already satisfied: pandas in /usr/local/lib/python3.6/dist-packages (from alpaca_trade_api) (1.1.4)\n",
            "Requirement already satisfied: websocket-client<1,>=0.56.0 in /usr/local/lib/python3.6/dist-packages (from alpaca_trade_api) (0.57.0)\n",
            "Requirement already satisfied: requests<3,>2 in /usr/local/lib/python3.6/dist-packages (from alpaca_trade_api) (2.23.0)\n",
            "Requirement already satisfied: websockets<9,>=8.0 in /usr/local/lib/python3.6/dist-packages (from alpaca_trade_api) (8.1)\n",
            "Requirement already satisfied: numpy>=1.15.4 in /usr/local/lib/python3.6/dist-packages (from pandas->alpaca_trade_api) (1.18.5)\n",
            "Requirement already satisfied: python-dateutil>=2.7.3 in /usr/local/lib/python3.6/dist-packages (from pandas->alpaca_trade_api) (2.8.1)\n",
            "Requirement already satisfied: pytz>=2017.2 in /usr/local/lib/python3.6/dist-packages (from pandas->alpaca_trade_api) (2018.9)\n",
            "Requirement already satisfied: six in /usr/local/lib/python3.6/dist-packages (from websocket-client<1,>=0.56.0->alpaca_trade_api) (1.15.0)\n",
            "Requirement already satisfied: chardet<4,>=3.0.2 in /usr/local/lib/python3.6/dist-packages (from requests<3,>2->alpaca_trade_api) (3.0.4)\n",
            "Requirement already satisfied: idna<3,>=2.5 in /usr/local/lib/python3.6/dist-packages (from requests<3,>2->alpaca_trade_api) (2.10)\n",
            "Requirement already satisfied: certifi>=2017.4.17 in /usr/local/lib/python3.6/dist-packages (from requests<3,>2->alpaca_trade_api) (2020.11.8)\n",
            "Requirement already satisfied: mplfinance in /usr/local/lib/python3.6/dist-packages (0.12.7a0)\n",
            "Requirement already satisfied: matplotlib in /usr/local/lib/python3.6/dist-packages (from mplfinance) (3.2.2)\n",
            "Requirement already satisfied: pandas in /usr/local/lib/python3.6/dist-packages (from mplfinance) (1.1.4)\n",
            "Requirement already satisfied: pyparsing!=2.0.4,!=2.1.2,!=2.1.6,>=2.0.1 in /usr/local/lib/python3.6/dist-packages (from matplotlib->mplfinance) (2.4.7)\n",
            "Requirement already satisfied: kiwisolver>=1.0.1 in /usr/local/lib/python3.6/dist-packages (from matplotlib->mplfinance) (1.3.1)\n",
            "Requirement already satisfied: python-dateutil>=2.1 in /usr/local/lib/python3.6/dist-packages (from matplotlib->mplfinance) (2.8.1)\n",
            "Requirement already satisfied: numpy>=1.11 in /usr/local/lib/python3.6/dist-packages (from matplotlib->mplfinance) (1.18.5)\n",
            "Requirement already satisfied: cycler>=0.10 in /usr/local/lib/python3.6/dist-packages (from matplotlib->mplfinance) (0.10.0)\n",
            "Requirement already satisfied: pytz>=2017.2 in /usr/local/lib/python3.6/dist-packages (from pandas->mplfinance) (2018.9)\n",
            "Requirement already satisfied: six>=1.5 in /usr/local/lib/python3.6/dist-packages (from python-dateutil>=2.1->matplotlib->mplfinance) (1.15.0)\n"
          ],
          "name": "stdout"
        }
      ]
    },
    {
      "cell_type": "markdown",
      "metadata": {
        "id": "gW1FTJmne8sG"
      },
      "source": [
        "## Storing API Keys\n",
        "In order to securely use the Alpaca API, you will need to provide your own API keys in a file on your personal Google Drive.\n",
        "0. Sign up for Alpaca and get API keys (get paper trading keys for now).\n",
        "1. Upload a file called keys.txt formatted like this: \n",
        "```\n",
        "[default]\n",
        "APCA-API-KEY-ID=<Your API key ID>\n",
        "APCA-API-SECRET-KEY=<Your API secret key ID>\n",
        "```\n",
        "Keys will be generated by Alpaca and should be kept secret.\n",
        "2. Open the file menu by clicking the file icon on the left side of Colab.\n",
        "3. Select 'Mount Drive'.\n",
        "4. Allow Google to access your Drive."
      ]
    },
    {
      "cell_type": "code",
      "metadata": {
        "id": "2VGcXb-8gmg8"
      },
      "source": [
        "# Get the API keys.\n",
        "import os\n",
        "\n",
        "with open(\"/content/drive/My Drive/keys.txt\") as creds:\n",
        "  for i, line in enumerate(creds):\n",
        "    if i == 1:\n",
        "      api_key_id = line.replace(\"APCA-API-KEY-ID=\", \"\").replace(\"\\n\", \"\")\n",
        "    elif i == 2:\n",
        "      secret_key = line.replace(\"APCA-API-SECRET-KEY=\", \"\").replace(\"\\n\", \"\")"
      ],
      "execution_count": null,
      "outputs": []
    },
    {
      "cell_type": "code",
      "metadata": {
        "id": "lL6Jv6Epa8eF"
      },
      "source": [
        "# Start retrieving market data.\n",
        "# Taken from: https://alpaca.markets/docs/api-documentation/how-to/market-data/\n",
        "import alpaca_trade_api as tradeapi\n",
        "\n",
        "api = tradeapi.REST(api_key_id, secret_key, \"https://paper-api.alpaca.markets\")"
      ],
      "execution_count": null,
      "outputs": []
    },
    {
      "cell_type": "code",
      "metadata": {
        "id": "y6irjMxNkdUb"
      },
      "source": [
        "def get_market_price(ticker, days=5):\n",
        "  # Get daily price data for SBE over the last few days.\n",
        "  barset = api.get_barset(ticker, 'day', limit=days)\n",
        "  bars = barset[ticker]\n",
        "\n",
        "  # See how much our moved in that timeframe.\n",
        "  open = bars[0].o\n",
        "  close = bars[-1].c\n",
        "  percent_change = (close - open) / open * 100\n",
        "  print(f'{ticker} moved from ${open} to ${close}',\n",
        "        f'({round(percent_change, 2)}%) in the last {days} days.')"
      ],
      "execution_count": null,
      "outputs": []
    },
    {
      "cell_type": "code",
      "metadata": {
        "colab": {
          "base_uri": "https://localhost:8080/"
        },
        "id": "HdAD2PrylLG0",
        "outputId": "085fc258-6ef1-4e2d-c94d-31b1bee8c825"
      },
      "source": [
        "ticker = \"SBE\" #@param {type:\"string\"}\n",
        "get_market_price(ticker)"
      ],
      "execution_count": null,
      "outputs": [
        {
          "output_type": "stream",
          "text": [
            "SBE moved from $20.64 to $36.69 (77.76%) in the last 5 days.\n"
          ],
          "name": "stdout"
        }
      ]
    },
    {
      "cell_type": "code",
      "metadata": {
        "colab": {
          "base_uri": "https://localhost:8080/"
        },
        "id": "5UbWUKcPmQ6f",
        "outputId": "d03dbb2c-8a1b-4466-eaeb-df239f367349"
      },
      "source": [
        "# How much of your stock you want to buy.\n",
        "quantity =  5#@param {type:\"integer\"}\n",
        "\n",
        "# Get account.\n",
        "api.get_account()\n",
        "\n",
        "# Order some SBE on the paper trading API.\n",
        "api.submit_order(ticker, side='buy', qty=quantity, type='market', time_in_force='gtc')"
      ],
      "execution_count": null,
      "outputs": [
        {
          "output_type": "execute_result",
          "data": {
            "text/plain": [
              "Order({   'asset_class': 'us_equity',\n",
              "    'asset_id': 'd03137f2-93a7-4f36-adb1-4a20737b501c',\n",
              "    'canceled_at': None,\n",
              "    'client_order_id': '4f0b6115-0af4-424c-97cf-132fde035d2e',\n",
              "    'created_at': '2020-11-25T00:28:25.785281Z',\n",
              "    'expired_at': None,\n",
              "    'extended_hours': False,\n",
              "    'failed_at': None,\n",
              "    'filled_at': None,\n",
              "    'filled_avg_price': None,\n",
              "    'filled_qty': '0',\n",
              "    'hwm': None,\n",
              "    'id': 'def9f44a-a3a6-4744-95e7-bfd30241131e',\n",
              "    'legs': None,\n",
              "    'limit_price': None,\n",
              "    'order_class': '',\n",
              "    'order_type': 'market',\n",
              "    'qty': '5',\n",
              "    'replaced_at': None,\n",
              "    'replaced_by': None,\n",
              "    'replaces': None,\n",
              "    'side': 'buy',\n",
              "    'status': 'accepted',\n",
              "    'stop_price': None,\n",
              "    'submitted_at': '2020-11-25T00:28:25.780026Z',\n",
              "    'symbol': 'SBE',\n",
              "    'time_in_force': 'gtc',\n",
              "    'trail_percent': None,\n",
              "    'trail_price': None,\n",
              "    'type': 'market',\n",
              "    'updated_at': '2020-11-25T00:28:25.785281Z'})"
            ]
          },
          "metadata": {
            "tags": []
          },
          "execution_count": 58
        }
      ]
    },
    {
      "cell_type": "code",
      "metadata": {
        "id": "nED9bSRqmS5M",
        "colab": {
          "base_uri": "https://localhost:8080/"
        },
        "outputId": "d33bded2-b563-4039-b11c-584eb534cd23"
      },
      "source": [
        "# List positions and orders.\n",
        "print(api.list_positions())\n",
        "print(api.list_orders())"
      ],
      "execution_count": null,
      "outputs": [
        {
          "output_type": "stream",
          "text": [
            "[]\n",
            "[Order({   'asset_class': 'us_equity',\n",
            "    'asset_id': 'd03137f2-93a7-4f36-adb1-4a20737b501c',\n",
            "    'canceled_at': None,\n",
            "    'client_order_id': '4f0b6115-0af4-424c-97cf-132fde035d2e',\n",
            "    'created_at': '2020-11-25T00:28:25.785281Z',\n",
            "    'expired_at': None,\n",
            "    'extended_hours': False,\n",
            "    'failed_at': None,\n",
            "    'filled_at': None,\n",
            "    'filled_avg_price': None,\n",
            "    'filled_qty': '0',\n",
            "    'hwm': None,\n",
            "    'id': 'def9f44a-a3a6-4744-95e7-bfd30241131e',\n",
            "    'legs': None,\n",
            "    'limit_price': None,\n",
            "    'order_class': '',\n",
            "    'order_type': 'market',\n",
            "    'qty': '5',\n",
            "    'replaced_at': None,\n",
            "    'replaced_by': None,\n",
            "    'replaces': None,\n",
            "    'side': 'buy',\n",
            "    'status': 'accepted',\n",
            "    'stop_price': None,\n",
            "    'submitted_at': '2020-11-25T00:28:25.780026Z',\n",
            "    'symbol': 'SBE',\n",
            "    'time_in_force': 'gtc',\n",
            "    'trail_percent': None,\n",
            "    'trail_price': None,\n",
            "    'type': 'market',\n",
            "    'updated_at': '2020-11-25T00:28:25.785281Z'}), Order({   'asset_class': 'us_equity',\n",
            "    'asset_id': 'd03137f2-93a7-4f36-adb1-4a20737b501c',\n",
            "    'canceled_at': None,\n",
            "    'client_order_id': 'd89d0f3d-dbef-4071-b152-c3f6db9f2487',\n",
            "    'created_at': '2020-11-25T00:04:40.641207Z',\n",
            "    'expired_at': None,\n",
            "    'extended_hours': False,\n",
            "    'failed_at': None,\n",
            "    'filled_at': None,\n",
            "    'filled_avg_price': None,\n",
            "    'filled_qty': '0',\n",
            "    'hwm': None,\n",
            "    'id': '4d2fa08b-2082-438f-a7e9-a37e19afe5d5',\n",
            "    'legs': None,\n",
            "    'limit_price': None,\n",
            "    'order_class': '',\n",
            "    'order_type': 'market',\n",
            "    'qty': '10',\n",
            "    'replaced_at': None,\n",
            "    'replaced_by': None,\n",
            "    'replaces': None,\n",
            "    'side': 'buy',\n",
            "    'status': 'accepted',\n",
            "    'stop_price': None,\n",
            "    'submitted_at': '2020-11-25T00:04:40.636401Z',\n",
            "    'symbol': 'SBE',\n",
            "    'time_in_force': 'gtc',\n",
            "    'trail_percent': None,\n",
            "    'trail_price': None,\n",
            "    'type': 'market',\n",
            "    'updated_at': '2020-11-25T00:04:40.641207Z'})]\n"
          ],
          "name": "stdout"
        }
      ]
    },
    {
      "cell_type": "code",
      "metadata": {
        "id": "XqZ5OlC1t7qW",
        "colab": {
          "base_uri": "https://localhost:8080/",
          "height": 493
        },
        "outputId": "df02a1e9-60cf-4f63-fba1-5a40ced90349"
      },
      "source": [
        "# Generate candlestick.\n",
        "import matplotlib.pyplot as plt\n",
        "import matplotlib.dates as mdates\n",
        "import mplfinance as mpf\n",
        "from matplotlib.dates import MONDAY, DateFormatter, DayLocator, WeekdayLocator\n",
        "\n",
        "# Get data.\n",
        "df = api.get_barset(ticker, 'day',  limit=50).df[ticker]\n",
        "\n",
        "# Prep styling and plot.\n",
        "mc = mpf.make_marketcolors(up='g',down='r', volume='in')\n",
        "s  = mpf.make_mpf_style(marketcolors=mc)\n",
        "mpf.plot(df, type='candle', volume=True, style=s)"
      ],
      "execution_count": null,
      "outputs": [
        {
          "output_type": "display_data",
          "data": {
            "image/png": "[encoded data removed]",
            "text/plain": [
              "<Figure size 800x575 with 4 Axes>"
            ]
          },
          "metadata": {
            "tags": []
          }
        }
      ]
    }
  ]
}