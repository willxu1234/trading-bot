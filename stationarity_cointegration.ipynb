{
  "nbformat": 4,
  "nbformat_minor": 0,
  "metadata": {
    "colab": {
      "name": "cointegration.ipynb",
      "provenance": [],
      "mount_file_id": "1AIAPF6vD93CNB_0K6RAL93GBSMGHuPDQ",
      "authorship_tag": "ABX9TyPTSAjKUejPsj38dhiEUzY+",
      "include_colab_link": true
    },
    "kernelspec": {
      "name": "python3",
      "display_name": "Python 3"
    }
  },
  "cells": [
    {
      "cell_type": "markdown",
      "metadata": {
        "id": "view-in-github",
        "colab_type": "text"
      },
      "source": [
        "<a href=\"https://colab.research.google.com/github/willxu1234/trading-bot/blob/main/stationarity_cointegration.ipynb\" target=\"_parent\"><img src=\"https://colab.research.google.com/assets/colab-badge.svg\" alt=\"Open In Colab\"/></a>"
      ]
    },
    {
      "cell_type": "markdown",
      "metadata": {
        "id": "eJy73-WPcgeg"
      },
      "source": [
        "Files used for this\n",
        "\n",
        "https://drive.google.com/drive/folders/1jYgwuJ3lNQj2zxdeJFU3pZ6ExZDYucoO?usp=sharing\n"
      ]
    },
    {
      "cell_type": "code",
      "metadata": {
        "id": "8oCSywjdcP6h",
        "colab": {
          "base_uri": "https://localhost:8080/"
        },
        "outputId": "443bd6a2-d571-4a16-f499-a444a9153ede"
      },
      "source": [
        "!pip install statsmodels\n"
      ],
      "execution_count": null,
      "outputs": [
        {
          "output_type": "stream",
          "text": [
            "Requirement already satisfied: statsmodels in /usr/local/lib/python3.6/dist-packages (0.10.2)\n",
            "Requirement already satisfied: pandas>=0.19 in /usr/local/lib/python3.6/dist-packages (from statsmodels) (1.1.4)\n",
            "Requirement already satisfied: scipy>=0.18 in /usr/local/lib/python3.6/dist-packages (from statsmodels) (1.4.1)\n",
            "Requirement already satisfied: patsy>=0.4.0 in /usr/local/lib/python3.6/dist-packages (from statsmodels) (0.5.1)\n",
            "Requirement already satisfied: numpy>=1.11 in /usr/local/lib/python3.6/dist-packages (from statsmodels) (1.18.5)\n",
            "Requirement already satisfied: pytz>=2017.2 in /usr/local/lib/python3.6/dist-packages (from pandas>=0.19->statsmodels) (2018.9)\n",
            "Requirement already satisfied: python-dateutil>=2.7.3 in /usr/local/lib/python3.6/dist-packages (from pandas>=0.19->statsmodels) (2.8.1)\n",
            "Requirement already satisfied: six in /usr/local/lib/python3.6/dist-packages (from patsy>=0.4.0->statsmodels) (1.15.0)\n"
          ],
          "name": "stdout"
        }
      ]
    },
    {
      "cell_type": "code",
      "metadata": {
        "id": "cyZa0xk-EiEO"
      },
      "source": [
        "import pandas as pd\n",
        "import statsmodels.tsa.stattools as ts\n",
        "from statsmodels.tsa.stattools import adfuller"
      ],
      "execution_count": 67,
      "outputs": []
    },
    {
      "cell_type": "markdown",
      "metadata": {
        "id": "Xq-QAfRxM2dZ"
      },
      "source": [
        "**Import data from source**\n"
      ]
    },
    {
      "cell_type": "code",
      "metadata": {
        "colab": {
          "base_uri": "https://localhost:8080/"
        },
        "id": "1YhqViyXGBwM",
        "outputId": "27f4cd75-02cd-443c-d52c-b2be880688e1"
      },
      "source": [
        "df_x = pd.read_csv('BAC.csv', index_col=0) #import data into dataframe from api/source\n",
        "df_y = pd.read_csv('VNQ.csv', index_col=0) #import data into dataframe from api/source\n",
        "\n",
        "df_x.head\n"
      ],
      "execution_count": 39,
      "outputs": [
        {
          "output_type": "execute_result",
          "data": {
            "text/plain": [
              "<bound method NDFrame.head of                  Open       High        Low      Close  Adj Close   Volume\n",
              "Date                                                                      \n",
              "2011-11-21  54.580002  54.580002  53.650002  53.990002  37.555283  2054100\n",
              "2011-11-22  53.770000  54.250000  53.389999  53.740002  37.381382  2021300\n",
              "2011-11-23  53.290001  53.290001  52.060001  52.119999  36.254509  1728000\n",
              "2011-11-25  52.000000  53.299999  51.889999  52.349998  36.414501   680200\n",
              "2011-11-28  53.880001  54.169998  53.080002  53.520000  37.228348  1721900\n",
              "...               ...        ...        ...        ...        ...      ...\n",
              "2020-11-16  87.169998  87.440002  85.320000  86.339996  86.339996  2978300\n",
              "2020-11-17  85.699997  86.760002  85.110001  86.419998  86.419998  3856900\n",
              "2020-11-18  86.589996  87.080002  84.680000  84.739998  84.739998  9655500\n",
              "2020-11-19  84.620003  85.169998  83.730003  85.070000  85.070000  4225400\n",
              "2020-11-20  85.029999  85.150002  84.230003  84.610001  84.610001  3136400\n",
              "\n",
              "[2266 rows x 6 columns]>"
            ]
          },
          "metadata": {
            "tags": []
          },
          "execution_count": 39
        }
      ]
    },
    {
      "cell_type": "markdown",
      "metadata": {
        "id": "bEQHc2w4Nh9w"
      },
      "source": [
        "**Extract column desired**"
      ]
    },
    {
      "cell_type": "code",
      "metadata": {
        "colab": {
          "base_uri": "https://localhost:8080/"
        },
        "id": "K6BTca8wM9v_",
        "outputId": "c7b92394-06f6-4fe5-962d-df7451578112"
      },
      "source": [
        "df_x_AdjClose = df_x['Adj Close']\n",
        "df_y_AdjClose = df_y['Adj Close']\n",
        "\n",
        "df_x_AdjClose.head"
      ],
      "execution_count": 59,
      "outputs": [
        {
          "output_type": "execute_result",
          "data": {
            "text/plain": [
              "<bound method NDFrame.head of Date\n",
              "2011-11-21     4.862592\n",
              "2011-11-22     4.756307\n",
              "2011-11-23     4.552591\n",
              "2011-11-25     4.579163\n",
              "2011-11-28     4.650021\n",
              "                ...    \n",
              "2020-11-16    27.580000\n",
              "2020-11-17    27.549999\n",
              "2020-11-18    26.980000\n",
              "2020-11-19    26.980000\n",
              "2020-11-20    26.809999\n",
              "Name: Adj Close, Length: 2266, dtype: float64>"
            ]
          },
          "metadata": {
            "tags": []
          },
          "execution_count": 59
        }
      ]
    },
    {
      "cell_type": "markdown",
      "metadata": {
        "id": "5-tuia0FVSdd"
      },
      "source": [
        "**Test for unit root of time series** \n",
        "\n",
        "*   A prerequisite for co-integration is that all of the series under consideration are integrated of order one or greater to begin with (reject unit root)\n",
        "\n",
        "*   A unit root test tests whether a time series variable is non-stationary and possesses a unit root. The null hypothesis is generally defined as the presence of a unit root and the alternative hypothesis is either stationarity, trend stationarity or explosive root depending on the test used.\n",
        "\n"
      ]
    },
    {
      "cell_type": "code",
      "metadata": {
        "colab": {
          "base_uri": "https://localhost:8080/"
        },
        "id": "DzLpt1wzVSHf",
        "outputId": "6ffb8ae4-1a45-4716-e50c-8b55168c2dbd"
      },
      "source": [
        "# adf test for x\n",
        "statsmodels.tsa.stattools.adfuller(df_x_AdjClose, regression='ct', autolag='AIC')\n"
      ],
      "execution_count": 88,
      "outputs": [
        {
          "output_type": "execute_result",
          "data": {
            "text/plain": [
              "(-2.68744423998744,\n",
              " 0.24133274276375566,\n",
              " 27,\n",
              " 2238,\n",
              " {'1%': -3.9628208620185714,\n",
              "  '10%': -3.128206102889325,\n",
              "  '5%': -3.412453559692873},\n",
              " 2110.896388790241)"
            ]
          },
          "metadata": {
            "tags": []
          },
          "execution_count": 88
        }
      ]
    },
    {
      "cell_type": "markdown",
      "metadata": {
        "id": "_EG3DjCCYbxZ"
      },
      "source": [
        "\n",
        "Note: we use regression='ct' for adf test of constant and time trend for asset prices...See below\n",
        "\n",
        "More research can be done here for our case as this can knock/keep some pairs out\n",
        "\n",
        "\n",
        "---\n",
        "\n",
        "\n",
        "\n",
        "Case II: Constant and Time Trend\n",
        "\n",
        "The test regression is\n",
        "\n",
        "yt = c + δt + φyt−1 + εt\n",
        "\n",
        "and includes a constant and deterministic time trend to capture the deterministic trend under the alternative. The hypotheses to be tested are\n",
        "\n",
        "H0 : φ = 1 ⇒ yt ∼ I(1) with drift\n",
        "\n",
        "H1 : |φ| < 1 ⇒ yt ∼ I(0) with deterministic time trend\n",
        "\n",
        "**This formulation is appropriate for trending time series like asset prices or\n",
        "the levels of macroeconomic aggregates like real GDP.**\n",
        "\n",
        "Source: \n",
        "\n",
        "Page 119: https://faculty.washington.edu/ezivot/econ584/notes/unitroot.pdf"
      ]
    },
    {
      "cell_type": "code",
      "metadata": {
        "colab": {
          "base_uri": "https://localhost:8080/"
        },
        "id": "FwPopKK1Z7H2",
        "outputId": "850f5e2d-fdde-4955-b92a-45e6e14ec9f9"
      },
      "source": [
        "# adf test for y\n",
        "statsmodels.tsa.stattools.adfuller(df_y_AdjClose, regression='ct', autolag='AIC')"
      ],
      "execution_count": 89,
      "outputs": [
        {
          "output_type": "execute_result",
          "data": {
            "text/plain": [
              "(-3.9878656248817688,\n",
              " 0.009149138880705393,\n",
              " 27,\n",
              " 2238,\n",
              " {'1%': -3.9628208620185714,\n",
              "  '10%': -3.128206102889325,\n",
              "  '5%': -3.412453559692873},\n",
              " 5541.99200258862)"
            ]
          },
          "metadata": {
            "tags": []
          },
          "execution_count": 89
        }
      ]
    },
    {
      "cell_type": "markdown",
      "metadata": {
        "id": "zpo3ic4naInw"
      },
      "source": [
        "We can see x nonstationary so we should no consider x(BAC) for co-integration pairs"
      ]
    },
    {
      "cell_type": "markdown",
      "metadata": {
        "id": "Br6jlh_CNn_o"
      },
      "source": [
        "**We will test for cointegration regardless to see that the test fails**"
      ]
    },
    {
      "cell_type": "code",
      "metadata": {
        "colab": {
          "base_uri": "https://localhost:8080/"
        },
        "id": "8KStFt1WNnzK",
        "outputId": "b1e0b0d7-213c-4d9e-cbb5-9ba84cacea8a"
      },
      "source": [
        "result = ts.coint(df_x_AdjClose,df_y_AdjClose)\n",
        "print(result)"
      ],
      "execution_count": 61,
      "outputs": [
        {
          "output_type": "stream",
          "text": [
            "(-2.271839063588416, 0.3876857705201648, array([-3.90128181, -3.33882895, -3.04632302]))\n"
          ],
          "name": "stdout"
        }
      ]
    },
    {
      "cell_type": "markdown",
      "metadata": {
        "id": "FD695tXRRcMP"
      },
      "source": [
        "**Returns**\n",
        "\n",
        "**coint_t**: float\n",
        "The t-statistic of unit-root test on residuals.\n",
        "\n",
        "**pvalue**: float\n",
        "MacKinnon”s approximate, asymptotic p-value based on MacKinnon (1994).\n",
        "\n",
        "**crit_value**: dict\n",
        "Critical values for the test statistic at the 1 %, 5 %, and 10 % levels based on regression curve. This depends on the number of observations.\n",
        "\n",
        "\n",
        "\n",
        "---\n",
        "\n",
        "\n",
        "**Since we fail to reject the null, BAC and VNQ are not co-integrated.**\n",
        "\n",
        "\n",
        "\n",
        "---\n",
        "\n",
        "\n",
        "\n",
        "\n",
        "**Notes**\n",
        "\n",
        "* The Null hypothesis is that there is no cointegration, the alternative hypothesis is that there is cointegrating relationship. If the pvalue is small, below a critical size, then we can reject the hypothesis that there is no cointegrating relationship.\n",
        "\n",
        "* P-values and critical values are obtained through regression surface approximation from MacKinnon 1994 and 2010.\n",
        "\n",
        "* If the two series are almost perfectly collinear, then computing the test is numerically unstable. However, the two series will be cointegrated under the maintained assumption that they are integrated. In this case the t-statistic will be set to -inf and the pvalue to zero.\n",
        "\n",
        "* Assumes no nans and no gaps in time series.\n",
        "\n",
        "\n",
        "\n",
        "\n",
        "\n",
        "**References**\n",
        "\n",
        "1\n",
        "MacKinnon, J.G. 1994 “Approximate Asymptotic Distribution Functions for Unit-Root and Cointegration Tests.” Journal of Business & Economics Statistics, 12.2, 167-76.\n",
        "\n",
        "2\n",
        "MacKinnon, J.G. 2010. “Critical Values for Cointegration Tests.” Queen”s University, Dept of Economics Working Papers 1227. http://ideas.repec.org/p/qed/wpaper/1227.html"
      ]
    },
    {
      "cell_type": "markdown",
      "metadata": {
        "id": "WiYaay_3Stus"
      },
      "source": [
        "**Testing functionality on known co-integration pair**"
      ]
    },
    {
      "cell_type": "code",
      "metadata": {
        "colab": {
          "base_uri": "https://localhost:8080/"
        },
        "id": "kbKv0beHao8v",
        "outputId": "9bd56979-765a-4cae-af2b-aed7e22707d3"
      },
      "source": [
        "# adf test for EWA\n",
        "statsmodels.tsa.stattools.adfuller(df_EWA_AdjClose, regression='ct', autolag='AIC')"
      ],
      "execution_count": 90,
      "outputs": [
        {
          "output_type": "execute_result",
          "data": {
            "text/plain": [
              "(-3.360937987151856,\n",
              " 0.05682981995898565,\n",
              " 27,\n",
              " 2490,\n",
              " {'1%': -3.962410376909648,\n",
              "  '10%': -3.128089028078249,\n",
              "  '5%': -3.4122546731863177},\n",
              " 192.1867764830531)"
            ]
          },
          "metadata": {
            "tags": []
          },
          "execution_count": 90
        }
      ]
    },
    {
      "cell_type": "code",
      "metadata": {
        "colab": {
          "base_uri": "https://localhost:8080/"
        },
        "id": "RLOBz_cKalYk",
        "outputId": "f5b4a2da-27a6-40de-b4c5-d80432f3bcac"
      },
      "source": [
        "# adf test for EWC\n",
        "statsmodels.tsa.stattools.adfuller(df_EWC_AdjClose, regression='ct', autolag='AIC')"
      ],
      "execution_count": 91,
      "outputs": [
        {
          "output_type": "execute_result",
          "data": {
            "text/plain": [
              "(-3.2458494087048284,\n",
              " 0.07564664512182458,\n",
              " 27,\n",
              " 2490,\n",
              " {'1%': -3.962410376909648,\n",
              "  '10%': -3.128089028078249,\n",
              "  '5%': -3.4122546731863177},\n",
              " 849.2965906165118)"
            ]
          },
          "metadata": {
            "tags": []
          },
          "execution_count": 91
        }
      ]
    },
    {
      "cell_type": "markdown",
      "metadata": {
        "id": "6XC2-bd4awkT"
      },
      "source": [
        "Both EWA and EWC are stationary\n",
        "\n",
        "\n",
        "\n"
      ]
    },
    {
      "cell_type": "code",
      "metadata": {
        "colab": {
          "base_uri": "https://localhost:8080/"
        },
        "id": "88KW7_jeSjRB",
        "outputId": "9728787a-7654-4b53-e503-b279b09421cc"
      },
      "source": [
        "df_EWA = pd.read_csv('EWA.csv', index_col=0) #import data into dataframe from api/source\n",
        "df_EWC = pd.read_csv('EWC.csv', index_col=0) #import data into dataframe from api/source\n",
        "\n",
        "df_EWA.head"
      ],
      "execution_count": 62,
      "outputs": [
        {
          "output_type": "execute_result",
          "data": {
            "text/plain": [
              "<bound method NDFrame.head of                  Open       High        Low      Close  Adj Close   Volume\n",
              "Date                                                                      \n",
              "2010-11-22  24.520000  24.629999  24.209999  24.590000  15.281363  2429800\n",
              "2010-11-23  23.889999  23.990000  23.620001  23.709999  14.734494  8565900\n",
              "2010-11-24  24.170000  24.400000  24.150000  24.320000  15.113575  3301800\n",
              "2010-11-26  23.690001  23.830000  23.639999  23.650000  14.697206  3722200\n",
              "2010-11-29  23.660000  23.940001  23.459999  23.920000  14.864994  7119900\n",
              "...               ...        ...        ...        ...        ...      ...\n",
              "2020-11-16  22.450001  22.540001  22.360001  22.520000  22.520000  2993600\n",
              "2020-11-17  22.480000  22.629999  22.410000  22.559999  22.559999  1445000\n",
              "2020-11-18  22.730000  22.870001  22.580000  22.590000  22.590000  4644300\n",
              "2020-11-19  22.590000  22.760000  22.530001  22.760000  22.760000  2692800\n",
              "2020-11-20  22.770000  22.870001  22.719999  22.799999  22.799999  2378100\n",
              "\n",
              "[2518 rows x 6 columns]>"
            ]
          },
          "metadata": {
            "tags": []
          },
          "execution_count": 62
        }
      ]
    },
    {
      "cell_type": "code",
      "metadata": {
        "colab": {
          "base_uri": "https://localhost:8080/"
        },
        "id": "MOCS58kGS4Z-",
        "outputId": "2837f5ec-ab38-48d7-e1f1-bd3ed42ffee4"
      },
      "source": [
        "df_EWA_AdjClose = df_EWA['Adj Close']\n",
        "df_EWC_AdjClose = df_EWC['Adj Close']\n",
        "\n",
        "\n",
        "result2 = ts.coint(df_EWA_AdjClose,df_EWC_AdjClose)\n",
        "print(result2)"
      ],
      "execution_count": 63,
      "outputs": [
        {
          "output_type": "stream",
          "text": [
            "(-3.3820048162454066, 0.04438886626137574, array([-3.90079646, -3.33855861, -3.04613545]))\n"
          ],
          "name": "stdout"
        }
      ]
    },
    {
      "cell_type": "markdown",
      "metadata": {
        "id": "fw6YS7HcTFih"
      },
      "source": [
        "**Results**\n",
        "\n",
        "\n",
        "\n",
        "P-value = .04439 => **EWA and EWC are co-integrated with confidence of 95%.**\n",
        " \n",
        "\n"
      ]
    }
  ]
}